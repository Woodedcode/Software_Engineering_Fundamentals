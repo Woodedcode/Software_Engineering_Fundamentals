{
  "nbformat": 4,
  "nbformat_minor": 0,
  "metadata": {
    "colab": {
      "provenance": [],
      "authorship_tag": "ABX9TyPVd2C+2mGi3GdNykTZdrQd",
      "include_colab_link": true
    },
    "kernelspec": {
      "name": "python3",
      "display_name": "Python 3"
    },
    "language_info": {
      "name": "python"
    }
  },
  "cells": [
    {
      "cell_type": "markdown",
      "metadata": {
        "id": "view-in-github",
        "colab_type": "text"
      },
      "source": [
        "<a href=\"https://colab.research.google.com/github/Woodedcode/Software_Engineering_Fundamentals/blob/main/Software_Engineering_fundamentals.ipynb\" target=\"_parent\"><img src=\"https://colab.research.google.com/assets/colab-badge.svg\" alt=\"Open In Colab\"/></a>"
      ]
    },
    {
      "cell_type": "markdown",
      "source": [
        "#Software Engineering Fundamentals"
      ],
      "metadata": {
        "id": "0TTxfDitRG4m"
      }
    },
    {
      "cell_type": "markdown",
      "source": [
        "#Computer and Hardware\n",
        "\n",
        "Explain:\n",
        "\n",
        "Examples:\n",
        "\n",
        "#FOUNDATIONAL THEORY\n",
        "##\n",
        "\n",
        "##ABSTRACTIONS\n",
        "###layer\n",
        "\n"
      ],
      "metadata": {
        "id": "eAImI69iH79_"
      }
    },
    {
      "cell_type": "code",
      "execution_count": null,
      "metadata": {
        "id": "lmaN1MqpFJmF"
      },
      "outputs": [],
      "source": []
    },
    {
      "cell_type": "markdown",
      "source": [
        "#OPERATING SYSTEM\n",
        "\n",
        "##dedicated software that communicates with hardware"
      ],
      "metadata": {
        "id": "UhO4ubvUPPbd"
      }
    },
    {
      "cell_type": "markdown",
      "source": [
        "#SOFTWARE\n",
        "\n",
        "##WINDOWS, UNIX/LINUX, AND MAC\n",
        "\n",
        "- Learn Unix/Linux\n",
        "- VM Ware/Virtual Box\n",
        "- Terminal\n",
        "\n"
      ],
      "metadata": {
        "id": "6sP6yWoHPlmD"
      }
    },
    {
      "cell_type": "markdown",
      "source": [
        "#TYPES OF SOFTWARE\n",
        "\n",
        "#desktop -\n",
        "#web -\n",
        "#mobile -\n",
        "#hybrid -\n",
        "#embedded -\n",
        "\n",
        "##Desktop software\n",
        "####media, games, web browsers, antivirus, server software\n",
        "\n",
        "things you need to be aware of - OS, Architecture (32/64 bit), Updates\n",
        "\n",
        "\n",
        "#SOFTARE IN A VM\n",
        "###hardware\n",
        "###OS\n",
        "###VM\n",
        "###App"
      ],
      "metadata": {
        "id": "GERUA6K5RNKT"
      }
    },
    {
      "cell_type": "markdown",
      "source": [
        "#TYPES OF LANGUAGES\n",
        "\n",
        "#### Assembly -\n",
        "#### C (modern programming lang) -\n",
        "#### C++ - continuation of C\n",
        "#### Java/C\\# - OOP, runs in a VM\n",
        "#### Javacript - Web Browser\n",
        "#### Python -\n",
        "#### Rust/Go/Exlir/Zig\n",
        "\n",
        "#### compiled\n",
        "\\- C, C#, Java, C++\n",
        "\n",
        "#### Interpreted\n",
        "\\- Python, Ruby, PHP\n",
        "\n",
        "\n",
        "### INTERMEDIATE LANGUAGE\n",
        "C# -> IL -> exe\n",
        "\n",
        "###Transpiled Languages\n",
        "Typescript -> Javascript\n",
        "\n",
        "### DECLARATIVE (What)\n",
        "\\- SQL\n",
        "### IMPERATIVE (How)\n",
        "\\- Python\n"
      ],
      "metadata": {
        "id": "jFRe9b7WXuCG"
      }
    },
    {
      "cell_type": "markdown",
      "source": [
        "#INTRO TO BINARY\n",
        "\n",
        "one\n",
        "two\n",
        "three\n",
        "four\n",
        "five\n",
        "six\n",
        "seven\n",
        "eight\n",
        "nine\n",
        "ten\n",
        "eleven\n",
        "twelve\n",
        "thirteen\n",
        "fourteen\n",
        "fifteen\n",
        "sixteen"
      ],
      "metadata": {
        "id": "M4tIS-r_iRyA"
      }
    }
  ]
}